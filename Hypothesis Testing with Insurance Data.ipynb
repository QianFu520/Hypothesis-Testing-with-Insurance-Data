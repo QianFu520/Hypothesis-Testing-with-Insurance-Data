{
 "cells": [
  {
   "cell_type": "code",
   "execution_count": 1,
   "id": "3d3cca83",
   "metadata": {},
   "outputs": [],
   "source": [
    "import pandas as pd\n",
    "import numpy as np\n",
    "import matplotlib.pyplot as plt\n",
    "import seaborn as sns\n",
    "import scipy.stats as stats"
   ]
  },
  {
   "cell_type": "code",
   "execution_count": 2,
   "id": "b7dc29bb",
   "metadata": {},
   "outputs": [
    {
     "data": {
      "text/html": [
       "<div>\n",
       "<style scoped>\n",
       "    .dataframe tbody tr th:only-of-type {\n",
       "        vertical-align: middle;\n",
       "    }\n",
       "\n",
       "    .dataframe tbody tr th {\n",
       "        vertical-align: top;\n",
       "    }\n",
       "\n",
       "    .dataframe thead th {\n",
       "        text-align: right;\n",
       "    }\n",
       "</style>\n",
       "<table border=\"1\" class=\"dataframe\">\n",
       "  <thead>\n",
       "    <tr style=\"text-align: right;\">\n",
       "      <th></th>\n",
       "      <th>age</th>\n",
       "      <th>sex</th>\n",
       "      <th>bmi</th>\n",
       "      <th>children</th>\n",
       "      <th>smoker</th>\n",
       "      <th>region</th>\n",
       "      <th>charges</th>\n",
       "    </tr>\n",
       "  </thead>\n",
       "  <tbody>\n",
       "    <tr>\n",
       "      <th>0</th>\n",
       "      <td>19</td>\n",
       "      <td>female</td>\n",
       "      <td>27.90</td>\n",
       "      <td>0</td>\n",
       "      <td>yes</td>\n",
       "      <td>southwest</td>\n",
       "      <td>16884.9240</td>\n",
       "    </tr>\n",
       "    <tr>\n",
       "      <th>1</th>\n",
       "      <td>18</td>\n",
       "      <td>male</td>\n",
       "      <td>33.77</td>\n",
       "      <td>1</td>\n",
       "      <td>no</td>\n",
       "      <td>southeast</td>\n",
       "      <td>1725.5523</td>\n",
       "    </tr>\n",
       "  </tbody>\n",
       "</table>\n",
       "</div>"
      ],
      "text/plain": [
       "   age     sex    bmi  children smoker     region     charges\n",
       "0   19  female  27.90         0    yes  southwest  16884.9240\n",
       "1   18    male  33.77         1     no  southeast   1725.5523"
      ]
     },
     "execution_count": 2,
     "metadata": {},
     "output_type": "execute_result"
    }
   ],
   "source": [
    "df = pd.read_csv('Data/insurance - insurance.csv')\n",
    "df.head(2)"
   ]
  },
  {
   "cell_type": "markdown",
   "id": "e702bed4",
   "metadata": {},
   "source": [
    "## Q1. Do smokers have higher insurance charges than non-smokers?"
   ]
  },
  {
   "cell_type": "markdown",
   "id": "c273e1c7",
   "metadata": {},
   "source": [
    "\"Null Hypothesis \": There is no significant difference between the charge of smokers and non_smokers\n",
    "\n",
    "\"Alternate Hypothesis\": There is significant difference between the charge of smokers and non_smokers.\n",
    "\n",
    "alpha is 0.05.\n",
    "\n",
    "The test type is: two sample T-test."
   ]
  },
  {
   "cell_type": "code",
   "execution_count": 4,
   "id": "93093d83",
   "metadata": {},
   "outputs": [
    {
     "name": "stdout",
     "output_type": "stream",
     "text": [
      "For smokers (n=11): Mean=35439.40\n",
      "For non_smokers (n=39): Mean=7309.48\n"
     ]
    }
   ],
   "source": [
    "#creates a random sample of 50, and splits the data based on smokers or non_smoker. \n",
    "#The length and mean of each group is printed.\n",
    "sample = df.sample(n=50,random_state=42)\n",
    "smokers_charge = sample.loc[ sample['smoker']=='yes',\"charges\"]\n",
    "non_smokers_charge = sample.loc[ sample['smoker']=='no',\"charges\"]\n",
    "## Getting means for charges\n",
    "print(f\"For smokers (n={len(smokers_charge)}): Mean={np.mean(smokers_charge):.2f}\")\n",
    "print(f\"For non_smokers (n={len(non_smokers_charge)}): Mean={np.mean(non_smokers_charge):.2f}\")"
   ]
  },
  {
   "cell_type": "markdown",
   "id": "d99a4907",
   "metadata": {},
   "source": [
    "## Test the assumptions\n",
    "\n",
    "Independent T-Test(2 samples) Assumptions:\n",
    "\n",
    "No significant outliers\n",
    "\n",
    "\n",
    "Normality \n",
    "\n",
    "Equal Variance"
   ]
  },
  {
   "cell_type": "code",
   "execution_count": 5,
   "id": "b61ab280",
   "metadata": {},
   "outputs": [
    {
     "data": {
      "text/plain": [
       "0"
      ]
     },
     "execution_count": 5,
     "metadata": {},
     "output_type": "execute_result"
    }
   ],
   "source": [
    "# test each group outliers\n",
    "np.sum(abs(stats.zscore(smokers_charge))>3)"
   ]
  },
  {
   "cell_type": "code",
   "execution_count": 6,
   "id": "749f6414",
   "metadata": {},
   "outputs": [
    {
     "data": {
      "text/plain": [
       "0"
      ]
     },
     "execution_count": 6,
     "metadata": {},
     "output_type": "execute_result"
    }
   ],
   "source": [
    "np.sum(abs(stats.zscore(non_smokers_charge))>3)"
   ]
  },
  {
   "cell_type": "markdown",
   "id": "29ec3ce0",
   "metadata": {},
   "source": [
    "There are no outliers in our data."
   ]
  },
  {
   "cell_type": "code",
   "execution_count": 7,
   "id": "5cdad9bf",
   "metadata": {},
   "outputs": [
    {
     "name": "stderr",
     "output_type": "stream",
     "text": [
      "C:\\Users\\qfu88\\anaconda3\\envs\\dojo-env\\lib\\site-packages\\scipy\\stats\\_stats_py.py:1477: UserWarning: kurtosistest only valid for n>=20 ... continuing anyway, n=11\n",
      "  warnings.warn(\"kurtosistest only valid for n>=20 ... continuing \"\n"
     ]
    },
    {
     "data": {
      "text/plain": [
       "NormaltestResult(statistic=2.209358578032982, pvalue=0.331317122245031)"
      ]
     },
     "execution_count": 7,
     "metadata": {},
     "output_type": "execute_result"
    }
   ],
   "source": [
    "#test each group normality\n",
    "# normal test smokers\n",
    "result_s = stats.normaltest(smokers_charge)\n",
    "result_s"
   ]
  },
  {
   "cell_type": "code",
   "execution_count": 8,
   "id": "86893a5e",
   "metadata": {},
   "outputs": [
    {
     "data": {
      "text/plain": [
       "NormaltestResult(statistic=2.6262187199374125, pvalue=0.26898239167805005)"
      ]
     },
     "execution_count": 8,
     "metadata": {},
     "output_type": "execute_result"
    }
   ],
   "source": [
    "#normal test non_smokers\n",
    "result_n = stats.normaltest(non_smokers_charge)\n",
    "result_n"
   ]
  },
  {
   "cell_type": "markdown",
   "id": "3dd7c390",
   "metadata": {},
   "source": [
    "For both the smoker and non_smoker groups, the p-value is greater than 0.05. so we can assume these two groups are normal distributions."
   ]
  },
  {
   "cell_type": "code",
   "execution_count": 9,
   "id": "886096a7",
   "metadata": {},
   "outputs": [
    {
     "data": {
      "text/plain": [
       "LeveneResult(statistic=18.397400827816167, pvalue=8.621214599569032e-05)"
      ]
     },
     "execution_count": 9,
     "metadata": {},
     "output_type": "execute_result"
    }
   ],
   "source": [
    "#Testing for Equal Variance with Levene's test\n",
    "result = stats.levene(smokers_charge, non_smokers_charge)\n",
    "result"
   ]
  },
  {
   "cell_type": "markdown",
   "id": "dc72bff3",
   "metadata": {},
   "source": [
    "So the p-value is greater than 0.05. we met this assumptions."
   ]
  },
  {
   "cell_type": "markdown",
   "id": "3e7b4cd4",
   "metadata": {},
   "source": [
    "## Execute the selected test"
   ]
  },
  {
   "cell_type": "code",
   "execution_count": 10,
   "id": "1d87075c",
   "metadata": {},
   "outputs": [
    {
     "data": {
      "text/plain": [
       "Ttest_indResult(statistic=13.237119558105961, pvalue=1.2286151200596125e-17)"
      ]
     },
     "execution_count": 10,
     "metadata": {},
     "output_type": "execute_result"
    }
   ],
   "source": [
    "result = stats.ttest_ind(smokers_charge,non_smokers_charge)\n",
    "result"
   ]
  },
  {
   "cell_type": "markdown",
   "id": "e1030640",
   "metadata": {},
   "source": [
    "so our p value < 0.05. we reject the null hypothesis and accept there is a significant difference between the charges of smokers and non_smokers. "
   ]
  },
  {
   "cell_type": "markdown",
   "id": "75293e5f",
   "metadata": {},
   "source": [
    "## Q2. Are men more likely to smoke than women?"
   ]
  },
  {
   "cell_type": "markdown",
   "id": "b18f7e44",
   "metadata": {},
   "source": [
    "\"Null Hypothesis \": the probabiity of men smoke >0.5.\n",
    "\n",
    "\"Alternate Hypothesis\": the probability of men smoke is <=0.5.\n",
    "\n",
    "alpha is 0.05.\n",
    "\n",
    "The test type is: Binomial Test."
   ]
  },
  {
   "cell_type": "markdown",
   "id": "dedbd0a0",
   "metadata": {},
   "source": [
    "## Test the assumptions\n",
    "\n",
    "There are 2 possible outcomes: success and failure. \n",
    "\n",
    "\n",
    "The probability of success is constant.\n",
    "\n",
    "The trials are independent (outcome of one trial does not influence another)"
   ]
  },
  {
   "cell_type": "code",
   "execution_count": 18,
   "id": "f8848cf2",
   "metadata": {},
   "outputs": [
    {
     "data": {
      "text/plain": [
       "159"
      ]
     },
     "execution_count": 18,
     "metadata": {},
     "output_type": "execute_result"
    }
   ],
   "source": [
    "male_smoker = df.loc[(df['sex']==\"male\")&(df['smoker']==\"yes\")]\n",
    "len(male_smoker)"
   ]
  },
  {
   "cell_type": "code",
   "execution_count": 19,
   "id": "98f397ab",
   "metadata": {},
   "outputs": [
    {
     "data": {
      "text/plain": [
       "115"
      ]
     },
     "execution_count": 19,
     "metadata": {},
     "output_type": "execute_result"
    }
   ],
   "source": [
    "female_smoker = df.loc[(df['sex']==\"female\")&(df['smoker']==\"yes\")]\n",
    "len(female_smoker)"
   ]
  },
  {
   "cell_type": "code",
   "execution_count": 25,
   "id": "73061630",
   "metadata": {},
   "outputs": [
    {
     "data": {
      "text/plain": [
       "0.004629969384357161"
      ]
     },
     "execution_count": 25,
     "metadata": {},
     "output_type": "execute_result"
    }
   ],
   "source": [
    "# Save outcomes of 159 males (success), 115 females (failure)\n",
    "outcomes = [159,115]\n",
    "p_value = stats.binom_test(outcomes,p=0.5, alternative='greater') # p is the expected probability of success (heads)\n",
    "p_value"
   ]
  },
  {
   "cell_type": "markdown",
   "id": "89306ef7",
   "metadata": {},
   "source": [
    "The p_value is <0.05. we rejected the null hypothesis that the probability of men smoke >0.5. we can conclude that men is not more likely to smoke than women."
   ]
  },
  {
   "cell_type": "markdown",
   "id": "c25253f6",
   "metadata": {},
   "source": [
    "## Q3. Do different regions have different charges, on average?"
   ]
  },
  {
   "cell_type": "markdown",
   "id": "811e124d",
   "metadata": {},
   "source": [
    "\"null hypothesis\": all regions' average charge are the same.\n",
    "\n",
    "\"alternate hypothesis\":there is a difference between the regions' averge charge.\n",
    "\n",
    "Using an alpha=.05\n",
    "\n",
    "The test type is: one way ANOVA\n"
   ]
  },
  {
   "cell_type": "code",
   "execution_count": 26,
   "id": "9e0c1b5b",
   "metadata": {},
   "outputs": [
    {
     "data": {
      "image/png": "[encoded data removed]",
      "text/plain": [
       "<Figure size 640x480 with 1 Axes>"
      ]
     },
     "metadata": {},
     "output_type": "display_data"
    }
   ],
   "source": [
    "#visulize the different regions' charges.\n",
    "sns.barplot(data=df, x='region',y='charges');"
   ]
  },
  {
   "cell_type": "code",
   "execution_count": 27,
   "id": "f617cdaa",
   "metadata": {},
   "outputs": [
    {
     "data": {
      "text/plain": [
       "dict_keys(['southwest', 'southeast', 'northwest', 'northeast'])"
      ]
     },
     "execution_count": 27,
     "metadata": {},
     "output_type": "execute_result"
    }
   ],
   "source": [
    "## separating our regions\n",
    "regions = {}\n",
    "## Loop through all unique categories\n",
    "for i in df['region'].unique():\n",
    "    data = df.loc[df['region']==i,'charges'].copy()\n",
    "    \n",
    "    # save into the dictionary\n",
    "    regions[i] = data\n",
    "regions.keys()"
   ]
  },
  {
   "cell_type": "markdown",
   "id": "b1ac6ede",
   "metadata": {},
   "source": [
    "## Test the assumptions"
   ]
  },
  {
   "cell_type": "markdown",
   "id": "02b0c496",
   "metadata": {},
   "source": [
    "No significant outliers\n",
    "\n",
    "Equal variance\n",
    "\n",
    "Normality"
   ]
  },
  {
   "cell_type": "code",
   "execution_count": 29,
   "id": "cd728f5e",
   "metadata": {},
   "outputs": [
    {
     "data": {
      "text/plain": [
       "7"
      ]
     },
     "execution_count": 29,
     "metadata": {},
     "output_type": "execute_result"
    }
   ],
   "source": [
    "## test the outliers\n",
    "charges = df['charges']\n",
    "np.sum(abs(stats.zscore(charges))>3)"
   ]
  },
  {
   "cell_type": "code",
   "execution_count": 30,
   "id": "b5996a69",
   "metadata": {},
   "outputs": [],
   "source": [
    "# remove outliers\n",
    "charges = charges[(np.abs(stats.zscore(charges)) < 3)]"
   ]
  },
  {
   "cell_type": "code",
   "execution_count": 31,
   "id": "51e3020d",
   "metadata": {},
   "outputs": [
    {
     "data": {
      "text/html": [
       "<div>\n",
       "<style scoped>\n",
       "    .dataframe tbody tr th:only-of-type {\n",
       "        vertical-align: middle;\n",
       "    }\n",
       "\n",
       "    .dataframe tbody tr th {\n",
       "        vertical-align: top;\n",
       "    }\n",
       "\n",
       "    .dataframe thead th {\n",
       "        text-align: right;\n",
       "    }\n",
       "</style>\n",
       "<table border=\"1\" class=\"dataframe\">\n",
       "  <thead>\n",
       "    <tr style=\"text-align: right;\">\n",
       "      <th></th>\n",
       "      <th>n</th>\n",
       "      <th>p</th>\n",
       "      <th>test stat</th>\n",
       "    </tr>\n",
       "  </thead>\n",
       "  <tbody>\n",
       "    <tr>\n",
       "      <th>southwest</th>\n",
       "      <td>325.0</td>\n",
       "      <td>6.125298e-23</td>\n",
       "      <td>102.294059</td>\n",
       "    </tr>\n",
       "    <tr>\n",
       "      <th>southeast</th>\n",
       "      <td>364.0</td>\n",
       "      <td>4.953297e-15</td>\n",
       "      <td>65.877446</td>\n",
       "    </tr>\n",
       "    <tr>\n",
       "      <th>northwest</th>\n",
       "      <td>325.0</td>\n",
       "      <td>5.184209e-24</td>\n",
       "      <td>107.232850</td>\n",
       "    </tr>\n",
       "    <tr>\n",
       "      <th>northeast</th>\n",
       "      <td>324.0</td>\n",
       "      <td>1.455431e-19</td>\n",
       "      <td>86.747629</td>\n",
       "    </tr>\n",
       "  </tbody>\n",
       "</table>\n",
       "</div>"
      ],
      "text/plain": [
       "               n             p   test stat\n",
       "southwest  325.0  6.125298e-23  102.294059\n",
       "southeast  364.0  4.953297e-15   65.877446\n",
       "northwest  325.0  5.184209e-24  107.232850\n",
       "northeast  324.0  1.455431e-19   86.747629"
      ]
     },
     "execution_count": 31,
     "metadata": {},
     "output_type": "execute_result"
    }
   ],
   "source": [
    "## test the normality\n",
    "## Running normal test on each region and confirming there are >20 in each region\n",
    "norm_results = {}\n",
    "for i, data in regions.items():\n",
    "    stat, p = stats.normaltest(data)\n",
    "    ## save the p val, test statistic, and the size of the group\n",
    "    norm_results[i] = {'n': len(data),\n",
    "                             'p':p,\n",
    "                             'test stat':stat,}\n",
    "## convert to a dataframe\n",
    "norm_results_df = pd.DataFrame(norm_results).T\n",
    "norm_results_df\n"
   ]
  },
  {
   "cell_type": "code",
   "execution_count": 32,
   "id": "ae10d3ae",
   "metadata": {},
   "outputs": [
    {
     "data": {
      "text/html": [
       "<div>\n",
       "<style scoped>\n",
       "    .dataframe tbody tr th:only-of-type {\n",
       "        vertical-align: middle;\n",
       "    }\n",
       "\n",
       "    .dataframe tbody tr th {\n",
       "        vertical-align: top;\n",
       "    }\n",
       "\n",
       "    .dataframe thead th {\n",
       "        text-align: right;\n",
       "    }\n",
       "</style>\n",
       "<table border=\"1\" class=\"dataframe\">\n",
       "  <thead>\n",
       "    <tr style=\"text-align: right;\">\n",
       "      <th></th>\n",
       "      <th>n</th>\n",
       "      <th>p</th>\n",
       "      <th>test stat</th>\n",
       "      <th>sig</th>\n",
       "    </tr>\n",
       "  </thead>\n",
       "  <tbody>\n",
       "    <tr>\n",
       "      <th>southwest</th>\n",
       "      <td>325.0</td>\n",
       "      <td>6.125298e-23</td>\n",
       "      <td>102.294059</td>\n",
       "      <td>True</td>\n",
       "    </tr>\n",
       "    <tr>\n",
       "      <th>southeast</th>\n",
       "      <td>364.0</td>\n",
       "      <td>4.953297e-15</td>\n",
       "      <td>65.877446</td>\n",
       "      <td>True</td>\n",
       "    </tr>\n",
       "    <tr>\n",
       "      <th>northwest</th>\n",
       "      <td>325.0</td>\n",
       "      <td>5.184209e-24</td>\n",
       "      <td>107.232850</td>\n",
       "      <td>True</td>\n",
       "    </tr>\n",
       "    <tr>\n",
       "      <th>northeast</th>\n",
       "      <td>324.0</td>\n",
       "      <td>1.455431e-19</td>\n",
       "      <td>86.747629</td>\n",
       "      <td>True</td>\n",
       "    </tr>\n",
       "  </tbody>\n",
       "</table>\n",
       "</div>"
      ],
      "text/plain": [
       "               n             p   test stat   sig\n",
       "southwest  325.0  6.125298e-23  102.294059  True\n",
       "southeast  364.0  4.953297e-15   65.877446  True\n",
       "northwest  325.0  5.184209e-24  107.232850  True\n",
       "northeast  324.0  1.455431e-19   86.747629  True"
      ]
     },
     "execution_count": 32,
     "metadata": {},
     "output_type": "execute_result"
    }
   ],
   "source": [
    "### checking sig with pandas \n",
    "norm_results_df['sig'] = norm_results_df['p'] < .05 \n",
    "norm_results_df"
   ]
  },
  {
   "cell_type": "markdown",
   "id": "ed7436c3",
   "metadata": {},
   "source": [
    "we can confirm that non of the regions have normal distribution. But each region's size is large enough, so we can ignore the assumption result of normality."
   ]
  },
  {
   "cell_type": "code",
   "execution_count": 33,
   "id": "14b1a36c",
   "metadata": {},
   "outputs": [
    {
     "data": {
      "text/plain": [
       "LeveneResult(statistic=5.559966758410606, pvalue=0.0008610590250786703)"
      ]
     },
     "execution_count": 33,
     "metadata": {},
     "output_type": "execute_result"
    }
   ],
   "source": [
    "#Testing Assumption of Equal Variance \n",
    "stats.levene(*regions.values())"
   ]
  },
  {
   "cell_type": "markdown",
   "id": "5cd61945",
   "metadata": {},
   "source": [
    "we can see that I fail the assumption of equal variance. I will choose a different test: Kruskal-Wallis"
   ]
  },
  {
   "cell_type": "code",
   "execution_count": 34,
   "id": "ba19cef1",
   "metadata": {},
   "outputs": [
    {
     "data": {
      "text/plain": [
       "KruskalResult(statistic=4.734181215658743, pvalue=0.19232908072121002)"
      ]
     },
     "execution_count": 34,
     "metadata": {},
     "output_type": "execute_result"
    }
   ],
   "source": [
    "#perform the test\n",
    "result = stats.kruskal( *regions.values())\n",
    "result"
   ]
  },
  {
   "cell_type": "markdown",
   "id": "c8200e4a",
   "metadata": {},
   "source": [
    "The pvalue is >0.05, so there is no significant difference charges between the regions."
   ]
  },
  {
   "cell_type": "code",
   "execution_count": null,
   "id": "b3574c2f",
   "metadata": {},
   "outputs": [],
   "source": []
  }
 ],
 "metadata": {
  "kernelspec": {
   "display_name": "Python (dojo-env)",
   "language": "python",
   "name": "dojo-env"
  },
  "language_info": {
   "codemirror_mode": {
    "name": "ipython",
    "version": 3
   },
   "file_extension": ".py",
   "mimetype": "text/x-python",
   "name": "python",
   "nbconvert_exporter": "python",
   "pygments_lexer": "ipython3",
   "version": "3.8.13"
  },
  "toc": {
   "base_numbering": 1,
   "nav_menu": {},
   "number_sections": false,
   "sideBar": true,
   "skip_h1_title": false,
   "title_cell": "Table of Contents",
   "title_sidebar": "Contents",
   "toc_cell": false,
   "toc_position": {},
   "toc_section_display": true,
   "toc_window_display": false
  }
 },
 "nbformat": 4,
 "nbformat_minor": 5
}
